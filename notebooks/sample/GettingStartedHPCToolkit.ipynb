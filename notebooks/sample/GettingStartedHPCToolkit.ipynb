{
 "cells": [
  {
   "cell_type": "markdown",
   "id": "ebe80e1c-5a5d-4627-8ab3-f6dd11d1a82b",
   "metadata": {},
   "source": [
    "# Getting Started HPC Toolkit\n",
    "\n",
    "> Adapted from https://www.intel.com/content/www/us/en/docs/oneapi-hpc-toolkit/get-started-guide-linux/2024-0/run-a-sample-project-using-the-command-line.html\n",
    "\n",
    "## Build and Run a Sample Using Make*\r\n"
   ]
  },
  {
   "cell_type": "markdown",
   "id": "4082653a-716c-40b3-9e2e-90e42c27e6a1",
   "metadata": {},
   "source": [
    "Build the **matrix_mul** Program using Make"
   ]
  },
  {
   "cell_type": "code",
   "execution_count": 1,
   "id": "09e3c571-836b-4c41-86d6-f17151d301b6",
   "metadata": {},
   "outputs": [
    {
     "name": "stdout",
     "output_type": "stream",
     "text": [
      "icpx -std=c++17 -fsycl -g -o matrix_mul_dpc src/matrix_mul_sycl.cpp \n",
      "icpx: \u001b[0;1;34mremark: \u001b[0m\u001b[1mNote that use of '-g' without any optimization-level option will turn off most compiler optimizations similar to use of '-O0'; use '-Rno-debug-disables-optimization' to disable this remark [-Rdebug-disables-optimization]\u001b[0m\n"
     ]
    }
   ],
   "source": [
    "!cd matrix_mul && make all"
   ]
  },
  {
   "cell_type": "markdown",
   "id": "ce1434b0-632b-4ee3-92c2-49b79565e31d",
   "metadata": {},
   "source": [
    "Run the Program"
   ]
  },
  {
   "cell_type": "code",
   "execution_count": 3,
   "id": "7e27d5e5-2b0d-4104-bf2a-98a8f595984d",
   "metadata": {},
   "outputs": [
    {
     "name": "stdout",
     "output_type": "stream",
     "text": [
      "./matrix_mul_dpc\n",
      "Device: 13th Gen Intel(R) Core(TM) i7-1370P\n",
      "Problem size: c(150,600) = a(150,300) * b(300,600)\n",
      "Result of matrix multiplication using SYCL: Success - The results are correct!\n"
     ]
    }
   ],
   "source": [
    "!cd matrix_mul && make run"
   ]
  },
  {
   "cell_type": "markdown",
   "id": "c9d67631-4718-40bf-af6c-717c87e3b404",
   "metadata": {},
   "source": [
    "Clean the Program"
   ]
  },
  {
   "cell_type": "code",
   "execution_count": 4,
   "id": "71ded851-d664-4b94-b72a-5ac19aca7721",
   "metadata": {},
   "outputs": [
    {
     "name": "stdout",
     "output_type": "stream",
     "text": [
      "rm -rf matrix_mul_dpc matrix_mul_omp\n"
     ]
    }
   ],
   "source": [
    "!cd matrix_mul && make clean"
   ]
  }
 ],
 "metadata": {
  "kernelspec": {
   "display_name": "Python 3 (ipykernel)",
   "language": "python",
   "name": "python3"
  },
  "language_info": {
   "codemirror_mode": {
    "name": "ipython",
    "version": 3
   },
   "file_extension": ".py",
   "mimetype": "text/x-python",
   "name": "python",
   "nbconvert_exporter": "python",
   "pygments_lexer": "ipython3",
   "version": "3.11.6"
  }
 },
 "nbformat": 4,
 "nbformat_minor": 5
}
