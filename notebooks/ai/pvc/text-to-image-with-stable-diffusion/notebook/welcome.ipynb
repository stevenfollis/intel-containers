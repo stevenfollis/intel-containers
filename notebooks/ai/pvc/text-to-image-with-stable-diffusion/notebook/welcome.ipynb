{
 "cells": [
  {
   "cell_type": "markdown",
   "id": "813ea3f6-812d-416f-8410-db34c5c2e414",
   "metadata": {
    "editable": true,
    "slideshow": {
     "slide_type": ""
    },
    "tags": []
   },
   "source": [
    "# Welcome to the Gen AI Essentials!\n",
    "\n",
    "Hello there! We're excited to have you explore the wonders of generative AI. This set of notebooks are designed for everyone — from AI creators and artists to engineers and the just-plain curious. And the best part? It's all powered by [Intel® Data Center GPU Max 1100](https://www.intel.com/content/www/us/en/products/sku/232876/intel-data-center-gpu-max-1100/specifications.html).\n",
    "\n",
    "## What's Inside\n",
    "\n",
    "### [Welcome to the Magic of Words! - Text-to-Image with Stable Diffusion](./text_to_image.ipynb)\n",
    "- Ideal for writers, designers, developers, or anyone interested in turning textual descriptions into stunning visuals.\n",
    "\n",
    "### [Unleash Your Creativity: Image-to-Image Generation with Stable Diffusion](./image_to_image.ipynb)\n",
    "- Perfect for artists and engineers who want to see their images transform in creative and unexpected ways.\n",
    "\n",
    "### [Simple LLM Inference: Playing with Language Models](./simple_llm_inference.ipynb)\n",
    "- A hands-on experience for those fascinated by language models and text generation, no technical background needed.\n",
    "\n",
    "## How to Get Started\n",
    "1. Click on any of the notebook links above to jump right in.\n",
    "2. Each guide is straightforward and user-friendly, filled with examples and clear explanations.\n",
    "3. The only requirement is your curiosity and creativity!\n",
    "\n",
    "So, what are you waiting for? Dive into one of the notebooks above and start your journey into the fascinating world of Generative AI!\n",
    "\n",
    "Wishing you an exciting exploration of GenAI on Intel XPUs!\n"
   ]
  },
  {
   "cell_type": "code",
   "execution_count": null,
   "id": "07973d99-34ca-4585-b8bd-1db949503a4a",
   "metadata": {},
   "outputs": [],
   "source": []
  }
 ],
 "metadata": {
  "kernelspec": {
   "display_name": "pytorch-gpu",
   "language": "python",
   "name": "pytorch-gpu"
  },
  "language_info": {
   "codemirror_mode": {
    "name": "ipython",
    "version": 3
   },
   "file_extension": ".py",
   "mimetype": "text/x-python",
   "name": "python",
   "nbconvert_exporter": "python",
   "pygments_lexer": "ipython3",
   "version": "3.9.16"
  }
 },
 "nbformat": 4,
 "nbformat_minor": 5
}
